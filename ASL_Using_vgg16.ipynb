{
  "metadata": {
    "kernelspec": {
      "language": "python",
      "display_name": "Python 3",
      "name": "python3"
    },
    "language_info": {
      "name": "python",
      "version": "3.10.12",
      "mimetype": "text/x-python",
      "codemirror_mode": {
        "name": "ipython",
        "version": 3
      },
      "pygments_lexer": "ipython3",
      "nbconvert_exporter": "python",
      "file_extension": ".py"
    },
    "kaggle": {
      "accelerator": "gpu",
      "dataSources": [
        {
          "sourceId": 29550,
          "sourceType": "datasetVersion",
          "datasetId": 23079
        }
      ],
      "dockerImageVersionId": 30823,
      "isInternetEnabled": true,
      "language": "python",
      "sourceType": "notebook",
      "isGpuEnabled": true
    },
    "colab": {
      "provenance": []
    }
  },
  "nbformat_minor": 0,
  "nbformat": 4,
  "cells": [
    {
      "source": [
        "# IMPORTANT: RUN THIS CELL IN ORDER TO IMPORT YOUR KAGGLE DATA SOURCES,\n",
        "# THEN FEEL FREE TO DELETE THIS CELL.\n",
        "# NOTE: THIS NOTEBOOK ENVIRONMENT DIFFERS FROM KAGGLE'S PYTHON\n",
        "# ENVIRONMENT SO THERE MAY BE MISSING LIBRARIES USED BY YOUR\n",
        "# NOTEBOOK.\n",
        "import kagglehub\n",
        "grassknoted_asl_alphabet_path = kagglehub.dataset_download('grassknoted/asl-alphabet')\n",
        "\n",
        "print('Data source import complete.')\n"
      ],
      "metadata": {
        "id": "5OlpyCm7qUZa"
      },
      "cell_type": "code",
      "outputs": [],
      "execution_count": null
    },
    {
      "cell_type": "code",
      "source": [
        "import numpy as np\n",
        "import os\n",
        "import cv2\n",
        "from sklearn.utils import shuffle\n",
        "from collections import Counter\n",
        "import matplotlib.pyplot as plt\n",
        "from sklearn.model_selection import train_test_split\n",
        "from tensorflow.keras.utils import to_categorical\n",
        "import gc\n",
        "import tensorflow as tf\n",
        "from tensorflow import keras\n",
        "from tensorflow.keras.models import Sequential, Model\n",
        "from tensorflow.keras.layers import Conv2D, MaxPooling2D, Flatten, Dense, Dropout, GlobalAveragePooling2D, Activation\n",
        "from tensorflow.keras.callbacks import EarlyStopping\n",
        "from tensorflow.keras.applications import VGG16, VGG19, ResNet50, MobileNet\n",
        "from tensorflow.keras.optimizers import Adam\n",
        "from tensorflow.keras.layers import BatchNormalization\n",
        "import kagglehub\n",
        "import seaborn as sns\n",
        "import pandas as pd\n",
        "import skimage\n",
        "from skimage.transform import resize\n",
        "from sklearn.metrics import classification_report, confusion_matrix\n",
        "import os"
      ],
      "metadata": {
        "trusted": true,
        "execution": {
          "iopub.status.busy": "2025-01-09T07:21:18.209725Z",
          "iopub.execute_input": "2025-01-09T07:21:18.210093Z",
          "iopub.status.idle": "2025-01-09T07:21:18.21619Z",
          "shell.execute_reply.started": "2025-01-09T07:21:18.210067Z",
          "shell.execute_reply": "2025-01-09T07:21:18.215306Z"
        },
        "id": "8bopck31qUZe"
      },
      "outputs": [],
      "execution_count": null
    },
    {
      "cell_type": "code",
      "source": [
        "# Download latest version\n",
        "path = kagglehub.dataset_download(\"grassknoted/asl-alphabet\")\n",
        "\n",
        "print(\"Path to dataset files:\", path)"
      ],
      "metadata": {
        "trusted": true,
        "execution": {
          "iopub.status.busy": "2025-01-09T06:39:22.174512Z",
          "iopub.execute_input": "2025-01-09T06:39:22.174963Z",
          "iopub.status.idle": "2025-01-09T06:39:22.325863Z",
          "shell.execute_reply.started": "2025-01-09T06:39:22.174939Z",
          "shell.execute_reply": "2025-01-09T06:39:22.325242Z"
        },
        "id": "vnBCLPkzqUZg"
      },
      "outputs": [],
      "execution_count": null
    },
    {
      "cell_type": "code",
      "source": [
        "print(os.listdir('/kaggle/input/asl-alphabet/asl_alphabet_train/asl_alphabet_train'))"
      ],
      "metadata": {
        "trusted": true,
        "execution": {
          "iopub.status.busy": "2025-01-09T06:39:22.3266Z",
          "iopub.execute_input": "2025-01-09T06:39:22.326786Z",
          "iopub.status.idle": "2025-01-09T06:39:22.335973Z",
          "shell.execute_reply.started": "2025-01-09T06:39:22.326769Z",
          "shell.execute_reply": "2025-01-09T06:39:22.335314Z"
        },
        "id": "AB5riW61qUZg"
      },
      "outputs": [],
      "execution_count": null
    },
    {
      "cell_type": "code",
      "source": [
        "# Define constants for data preprocessing and model training\n",
        "imageSize = 224  # Desired size (width and height) for resizing images\n",
        "target_dims = (imageSize, imageSize, 3)  # Target dimensions for input images\n",
        "num_classes = 27  # Number of classes in the dataset after exclusion\n",
        "\n",
        "# Training data directory path\n",
        "train_dir = '/kaggle/input/asl-alphabet/asl_alphabet_train/asl_alphabet_train'  # Path to the dataset folder\n",
        "\n",
        "# Function to load and preprocess a reduced dataset\n",
        "def get_reduced_data(folder, target_samples=10000, excluded_classes=['del', 'nothing']):\n",
        "    \"\"\"\n",
        "    Load a balanced subset of images and labels from the specified folder.\n",
        "\n",
        "    Args:\n",
        "        folder (str): Path to the dataset folder.\n",
        "        target_samples (int): Total number of samples to include in the reduced dataset.\n",
        "        excluded_classes (list): Classes to exclude from the dataset.\n",
        "\n",
        "    Returns:\n",
        "        tuple: Preprocessed images (X) and their corresponding labels (y).\n",
        "    \"\"\"\n",
        "    import numpy as np\n",
        "    import os\n",
        "    import cv2\n",
        "    from sklearn.utils import shuffle\n",
        "\n",
        "    # Calculate the number of samples per class\n",
        "    label_mapping = {\n",
        "        'A': 0, 'B': 1, 'C': 2, 'D': 3, 'E': 4, 'F': 5, 'G': 6, 'H': 7, 'I': 8, 'J': 9,\n",
        "        'K': 10, 'L': 11, 'M': 12, 'N': 13, 'O': 14, 'P': 15, 'Q': 16, 'R': 17, 'S': 18, 'T': 19,\n",
        "        'U': 20, 'V': 21, 'W': 22, 'X': 23, 'Y': 24, 'Z': 25, 'space': 26\n",
        "    }\n",
        "    samples_per_class = target_samples // len(label_mapping)\n",
        "\n",
        "    # Initialize lists to store images and labels\n",
        "    X, y = [], []\n",
        "\n",
        "    for folderName in os.listdir(folder):\n",
        "        if folderName not in excluded_classes and folderName in label_mapping:\n",
        "            label = label_mapping[folderName]\n",
        "            folder_path = os.path.join(folder, folderName)\n",
        "            image_files = os.listdir(folder_path)\n",
        "\n",
        "            # Shuffle and select a subset of images for the class\n",
        "            image_files = shuffle(image_files, random_state=42)[:samples_per_class]\n",
        "\n",
        "            for image_filename in image_files:\n",
        "                img_path = os.path.join(folder_path, image_filename)\n",
        "                img_file = cv2.imread(img_path)\n",
        "                if img_file is not None:\n",
        "                    img_file = cv2.resize(img_file, (imageSize, imageSize))\n",
        "                    X.append(img_file.astype(np.float32) / 255.0)  # Normalize the images\n",
        "                    y.append(label)\n",
        "\n",
        "    # Convert lists to NumPy arrays\n",
        "    X = np.array(X)\n",
        "    y = np.array(y)\n",
        "\n",
        "    # Shuffle the dataset to ensure randomness\n",
        "    X, y = shuffle(X, y, random_state=42)\n",
        "\n",
        "    return X, y\n",
        "\n",
        "# Load the reduced training data\n",
        "X_train, y_train = get_reduced_data(train_dir)\n",
        "\n",
        "# Print a success message\n",
        "print(f\"Images successfully imported. Total images processed: {len(y_train)}\")"
      ],
      "metadata": {
        "trusted": true,
        "execution": {
          "iopub.status.busy": "2025-01-09T06:39:22.336659Z",
          "iopub.execute_input": "2025-01-09T06:39:22.336895Z",
          "iopub.status.idle": "2025-01-09T06:40:35.613677Z",
          "shell.execute_reply.started": "2025-01-09T06:39:22.336864Z",
          "shell.execute_reply": "2025-01-09T06:40:35.612886Z"
        },
        "id": "3BHvXIgrqUZh"
      },
      "outputs": [],
      "execution_count": null
    },
    {
      "cell_type": "code",
      "source": [
        "def check_data_balance(labels, label_mapping):\n",
        "    \"\"\"\n",
        "    Print the number of samples for each class.\n",
        "\n",
        "    Args:\n",
        "        labels (array-like): Array of labels.\n",
        "        label_mapping (dict): Dictionary mapping class names to indices.\n",
        "    \"\"\"\n",
        "    # Count the occurrences of each label\n",
        "    label_counts = Counter(labels)\n",
        "\n",
        "    # Reverse the label mapping to get class names\n",
        "    reverse_mapping = {v: k for k, v in label_mapping.items()}\n",
        "\n",
        "    print(\"Data balance across classes:\")\n",
        "    for label, count in label_counts.items():\n",
        "        class_name = reverse_mapping.get(label, \"Unknown\")\n",
        "        print(f\"Class '{class_name}' (label {label}): {count} samples\")\n"
      ],
      "metadata": {
        "trusted": true,
        "execution": {
          "iopub.status.busy": "2025-01-09T06:40:35.614435Z",
          "iopub.execute_input": "2025-01-09T06:40:35.614649Z",
          "iopub.status.idle": "2025-01-09T06:40:35.618688Z",
          "shell.execute_reply.started": "2025-01-09T06:40:35.614626Z",
          "shell.execute_reply": "2025-01-09T06:40:35.618022Z"
        },
        "id": "wEXd2JS3qUZi"
      },
      "outputs": [],
      "execution_count": null
    },
    {
      "cell_type": "code",
      "source": [
        "# Define the label mapping\n",
        "label_mapping = {\n",
        "    'A': 0, 'B': 1, 'C': 2, 'D': 3, 'E': 4, 'F': 5, 'G': 6, 'H': 7, 'I': 8, 'J': 9,\n",
        "    'K': 10, 'L': 11, 'M': 12, 'N': 13, 'O': 14, 'P': 15, 'Q': 16, 'R': 17, 'S': 18, 'T': 19,\n",
        "    'U': 20, 'V': 21, 'W': 22, 'X': 23, 'Y': 24, 'Z': 25, 'space': 26\n",
        "}\n",
        "\n",
        "# Check data balance\n",
        "check_data_balance(y_train, label_mapping)\n"
      ],
      "metadata": {
        "trusted": true,
        "execution": {
          "iopub.status.busy": "2025-01-09T06:40:35.621159Z",
          "iopub.execute_input": "2025-01-09T06:40:35.621352Z",
          "iopub.status.idle": "2025-01-09T06:40:35.645308Z",
          "shell.execute_reply.started": "2025-01-09T06:40:35.621335Z",
          "shell.execute_reply": "2025-01-09T06:40:35.644542Z"
        },
        "id": "bD5oVFUSqUZj"
      },
      "outputs": [],
      "execution_count": null
    },
    {
      "cell_type": "code",
      "source": [
        "def plot_data_balance(labels, label_mapping):\n",
        "    \"\"\"\n",
        "    Plot the number of samples for each class.\n",
        "\n",
        "    Args:\n",
        "        labels (array-like): Array of labels.\n",
        "        label_mapping (dict): Dictionary mapping class names to indices.\n",
        "    \"\"\"\n",
        "    label_counts = Counter(labels)\n",
        "    reverse_mapping = {v: k for k, v in label_mapping.items()}\n",
        "\n",
        "    # Prepare data for the plot\n",
        "    class_names = [reverse_mapping[i] for i in sorted(label_counts.keys())]\n",
        "    counts = [label_counts[i] for i in sorted(label_counts.keys())]\n",
        "\n",
        "    # Plot\n",
        "    plt.figure(figsize=(12, 6))\n",
        "    plt.bar(class_names, counts, color='skyblue')\n",
        "    plt.xlabel('Class Name')\n",
        "    plt.ylabel('Number of Samples')\n",
        "    plt.title('Class Distribution')\n",
        "    plt.xticks(rotation=45)\n",
        "    plt.show()"
      ],
      "metadata": {
        "trusted": true,
        "execution": {
          "iopub.status.busy": "2025-01-09T06:40:35.647034Z",
          "iopub.execute_input": "2025-01-09T06:40:35.647242Z",
          "iopub.status.idle": "2025-01-09T06:40:35.659626Z",
          "shell.execute_reply.started": "2025-01-09T06:40:35.647225Z",
          "shell.execute_reply": "2025-01-09T06:40:35.658865Z"
        },
        "id": "x8P9yVZ1qUZk"
      },
      "outputs": [],
      "execution_count": null
    },
    {
      "cell_type": "code",
      "source": [
        "# Plot data balance\n",
        "plot_data_balance(y_train, label_mapping)"
      ],
      "metadata": {
        "trusted": true,
        "execution": {
          "iopub.status.busy": "2025-01-09T06:40:35.660389Z",
          "iopub.execute_input": "2025-01-09T06:40:35.660669Z",
          "iopub.status.idle": "2025-01-09T06:40:35.956106Z",
          "shell.execute_reply.started": "2025-01-09T06:40:35.660649Z",
          "shell.execute_reply": "2025-01-09T06:40:35.955193Z"
        },
        "id": "mKC_5x7NqUZl"
      },
      "outputs": [],
      "execution_count": null
    },
    {
      "cell_type": "code",
      "source": [
        "print(\"The shape of X_train is : \", X_train.shape)\n",
        "print(\"The shape of y_train is : \", y_train.shape)"
      ],
      "metadata": {
        "trusted": true,
        "execution": {
          "iopub.status.busy": "2025-01-09T06:40:35.956862Z",
          "iopub.execute_input": "2025-01-09T06:40:35.957101Z",
          "iopub.status.idle": "2025-01-09T06:40:35.961132Z",
          "shell.execute_reply.started": "2025-01-09T06:40:35.957081Z",
          "shell.execute_reply": "2025-01-09T06:40:35.96045Z"
        },
        "id": "NHr8H-TBqUZm"
      },
      "outputs": [],
      "execution_count": null
    },
    {
      "cell_type": "code",
      "source": [
        "print(\"The shape of one image is : \", X_train[0].shape)"
      ],
      "metadata": {
        "trusted": true,
        "execution": {
          "iopub.status.busy": "2025-01-09T06:40:35.961862Z",
          "iopub.execute_input": "2025-01-09T06:40:35.962106Z",
          "iopub.status.idle": "2025-01-09T06:40:35.978335Z",
          "shell.execute_reply.started": "2025-01-09T06:40:35.962086Z",
          "shell.execute_reply": "2025-01-09T06:40:35.977516Z"
        },
        "id": "-RlJKGO_qUZm"
      },
      "outputs": [],
      "execution_count": null
    },
    {
      "cell_type": "code",
      "source": [
        "plt.imshow(X_train[80])\n",
        "plt.show()"
      ],
      "metadata": {
        "trusted": true,
        "execution": {
          "iopub.status.busy": "2025-01-09T06:40:35.979151Z",
          "iopub.execute_input": "2025-01-09T06:40:35.979398Z",
          "iopub.status.idle": "2025-01-09T06:40:36.196714Z",
          "shell.execute_reply.started": "2025-01-09T06:40:35.979368Z",
          "shell.execute_reply": "2025-01-09T06:40:36.195892Z"
        },
        "id": "Ke8dLlf7qUZn"
      },
      "outputs": [],
      "execution_count": null
    },
    {
      "cell_type": "code",
      "source": [
        "X_data = X_train.copy()\n",
        "y_data = y_train.copy()"
      ],
      "metadata": {
        "trusted": true,
        "execution": {
          "iopub.status.busy": "2025-01-09T06:40:36.197644Z",
          "iopub.execute_input": "2025-01-09T06:40:36.197996Z",
          "iopub.status.idle": "2025-01-09T06:40:38.215539Z",
          "shell.execute_reply.started": "2025-01-09T06:40:36.197967Z",
          "shell.execute_reply": "2025-01-09T06:40:38.214883Z"
        },
        "id": "L2aykqKwqUZn"
      },
      "outputs": [],
      "execution_count": null
    },
    {
      "cell_type": "code",
      "source": [
        "# Split into training (70%) and testing (30%)\n",
        "X_train, X_temp, y_train, y_temp = train_test_split(X_data, y_data, test_size=0.3, random_state=42)\n",
        "\n",
        "# Further split the testing data into validation (15%) and testing (15%)\n",
        "X_val, X_test, y_val, y_test = train_test_split(X_temp, y_temp, test_size=0.5, random_state=42)\n",
        "\n",
        "print(f\"Training set: {X_train.shape}, Validation set: {X_val.shape}, Testing set: {X_test.shape}\")"
      ],
      "metadata": {
        "trusted": true,
        "execution": {
          "iopub.status.busy": "2025-01-09T06:40:38.216231Z",
          "iopub.execute_input": "2025-01-09T06:40:38.216433Z",
          "iopub.status.idle": "2025-01-09T06:40:40.449169Z",
          "shell.execute_reply.started": "2025-01-09T06:40:38.216415Z",
          "shell.execute_reply": "2025-01-09T06:40:40.448404Z"
        },
        "id": "M_7b2KQkqUZo"
      },
      "outputs": [],
      "execution_count": null
    },
    {
      "cell_type": "code",
      "source": [
        "# Dynamically determine the number of unique classes\n",
        "num_classes = len(np.unique(y_train))\n",
        "\n",
        "# One-hot encode the labels for training, validation, and testing\n",
        "y_cat_train = to_categorical(y_train, num_classes)\n",
        "y_cat_val = to_categorical(y_val, num_classes)\n",
        "y_cat_test = to_categorical(y_test, num_classes)\n",
        "\n",
        "# Print shapes to confirm\n",
        "print(f\"Training labels shape: {y_cat_train.shape}\")\n",
        "print(f\"Validation labels shape: {y_cat_val.shape}\")\n",
        "print(f\"Testing labels shape: {y_cat_test.shape}\")"
      ],
      "metadata": {
        "trusted": true,
        "execution": {
          "iopub.status.busy": "2025-01-09T06:40:40.449964Z",
          "iopub.execute_input": "2025-01-09T06:40:40.450163Z",
          "iopub.status.idle": "2025-01-09T06:40:40.45585Z",
          "shell.execute_reply.started": "2025-01-09T06:40:40.450146Z",
          "shell.execute_reply": "2025-01-09T06:40:40.455199Z"
        },
        "id": "KDOuS2VMqUZo"
      },
      "outputs": [],
      "execution_count": null
    },
    {
      "cell_type": "code",
      "source": [
        "# Checking the dimensions of all the variables\n",
        "print(X_train.shape)\n",
        "print(y_train.shape)\n",
        "print(X_test.shape)\n",
        "print(y_test.shape)\n",
        "print(X_val.shape)\n",
        "print(y_val.shape)\n",
        "print(y_cat_train.shape)\n",
        "print(y_cat_test.shape)\n",
        "print(y_cat_val.shape)"
      ],
      "metadata": {
        "trusted": true,
        "execution": {
          "iopub.status.busy": "2025-01-09T06:40:40.456603Z",
          "iopub.execute_input": "2025-01-09T06:40:40.45689Z",
          "iopub.status.idle": "2025-01-09T06:40:40.472656Z",
          "shell.execute_reply.started": "2025-01-09T06:40:40.456868Z",
          "shell.execute_reply": "2025-01-09T06:40:40.471866Z"
        },
        "id": "NjVtLatCqUZo"
      },
      "outputs": [],
      "execution_count": null
    },
    {
      "cell_type": "code",
      "source": [
        "# Delete unused variables to free up memory space\n",
        "del X_data  # Remove the copy of training data (no longer needed)\n",
        "del y_data  # Remove the copy of training labels (no longer needed)\n",
        "\n",
        "# Force garbage collection to immediately reclaim the memory occupied by deleted variables\n",
        "gc.collect()  # Ensures unused memory is cleared to optimize resource usage"
      ],
      "metadata": {
        "trusted": true,
        "execution": {
          "iopub.status.busy": "2025-01-09T06:40:40.473453Z",
          "iopub.execute_input": "2025-01-09T06:40:40.473735Z",
          "iopub.status.idle": "2025-01-09T06:40:40.682581Z",
          "shell.execute_reply.started": "2025-01-09T06:40:40.473707Z",
          "shell.execute_reply": "2025-01-09T06:40:40.681848Z"
        },
        "id": "2Ks10e6gqUZo"
      },
      "outputs": [],
      "execution_count": null
    },
    {
      "cell_type": "code",
      "source": [
        "early_stop = EarlyStopping(monitor='val_loss', patience=4, verbose=1)"
      ],
      "metadata": {
        "trusted": true,
        "execution": {
          "iopub.status.busy": "2025-01-09T06:40:40.683352Z",
          "iopub.execute_input": "2025-01-09T06:40:40.68367Z",
          "iopub.status.idle": "2025-01-09T06:40:40.697407Z",
          "shell.execute_reply.started": "2025-01-09T06:40:40.683647Z",
          "shell.execute_reply": "2025-01-09T06:40:40.696691Z"
        },
        "id": "q6xwxvSiqUZp"
      },
      "outputs": [],
      "execution_count": null
    },
    {
      "cell_type": "code",
      "source": [
        "# Define the CNN model\n",
        "model = Sequential([\n",
        "    # First convolutional layer with ReLU activation\n",
        "    Conv2D(32, (3, 3), input_shape=(224, 224, 3)),  # 32 filters, kernel size 3x3, input size 64x64x3 (RGB image)\n",
        "    BatchNormalization(), # Normalize inputs for faster convergence\n",
        "    Activation('relu'),  # Apply ReLU activation\n",
        "\n",
        "    # First pooling layer\n",
        "    MaxPooling2D(pool_size=(2, 2)),  # Downsample feature maps by 2x2\n",
        "\n",
        "    # Second convolutional layer with ReLU activation\n",
        "    Conv2D(64, (3, 3)),  # 64 filters, kernel size 3x3\n",
        "    Activation('relu'),\n",
        "\n",
        "    # Second pooling layer\n",
        "    MaxPooling2D(pool_size=(2, 2)),\n",
        "\n",
        "    # Third convolutional layer with ReLU activation\n",
        "    Conv2D(64, (3, 3)),  # 64 filters, kernel size 3x3\n",
        "    Activation('relu'),\n",
        "\n",
        "    # Third pooling layer\n",
        "    MaxPooling2D(pool_size=(2, 2)),\n",
        "\n",
        "    # Flatten layer to convert 3D feature maps to 1D\n",
        "    Flatten(),\n",
        "\n",
        "    # Fully connected dense layer with 128 neurons\n",
        "    Dense(128),\n",
        "    Activation('relu'), # ReLU activation for the dense layer\n",
        "\n",
        "    Dropout(0.5),  # Dropout layer to prevent overfitting\n",
        "\n",
        "    # Output layer with 29 neurons (number of classes) and softmax activation\n",
        "    Dense(27),\n",
        "    Activation('softmax')  # Softmax activation for multi-class classification\n",
        "])\n",
        "model.summary()"
      ],
      "metadata": {
        "trusted": true,
        "execution": {
          "iopub.status.busy": "2025-01-09T06:40:40.698126Z",
          "iopub.execute_input": "2025-01-09T06:40:40.69834Z",
          "iopub.status.idle": "2025-01-09T06:40:41.409986Z",
          "shell.execute_reply.started": "2025-01-09T06:40:40.698311Z",
          "shell.execute_reply": "2025-01-09T06:40:41.409317Z"
        },
        "id": "z8KsczczqUZp"
      },
      "outputs": [],
      "execution_count": null
    },
    {
      "cell_type": "code",
      "source": [
        "model.compile(\n",
        "    optimizer= Adam(learning_rate= 0.0001),  # Use Adam optimizer for efficient training\n",
        "    loss= 'categorical_crossentropy',  # Appropriate loss for multi-class classification\n",
        "    metrics= ['accuracy']  # Track accuracy during training\n",
        ")"
      ],
      "metadata": {
        "trusted": true,
        "execution": {
          "iopub.status.busy": "2025-01-09T06:40:41.410776Z",
          "iopub.execute_input": "2025-01-09T06:40:41.411104Z",
          "iopub.status.idle": "2025-01-09T06:40:41.422971Z",
          "shell.execute_reply.started": "2025-01-09T06:40:41.411071Z",
          "shell.execute_reply": "2025-01-09T06:40:41.422354Z"
        },
        "id": "eM-Glko9qUZp"
      },
      "outputs": [],
      "execution_count": null
    },
    {
      "cell_type": "code",
      "source": [
        "history = model.fit(\n",
        "    X_train, y_cat_train,\n",
        "    epochs= 30,\n",
        "    batch_size= 16,\n",
        "    validation_data=(X_val, y_cat_val),\n",
        "    #callbacks= [early_stop],\n",
        "    verbose=1\n",
        ")"
      ],
      "metadata": {
        "trusted": true,
        "execution": {
          "iopub.status.busy": "2025-01-09T06:40:41.427507Z",
          "iopub.execute_input": "2025-01-09T06:40:41.42772Z",
          "iopub.status.idle": "2025-01-09T06:44:46.671284Z",
          "shell.execute_reply.started": "2025-01-09T06:40:41.427701Z",
          "shell.execute_reply": "2025-01-09T06:44:46.670563Z"
        },
        "id": "fomPjTO9qUZp"
      },
      "outputs": [],
      "execution_count": null
    },
    {
      "cell_type": "code",
      "source": [
        "# Convert model training history to a pandas DataFrame\n",
        "metrics = pd.DataFrame(model.history.history)\n",
        "\n",
        "# Print the model metrics\n",
        "print(\"The model metrics for CNN are\")\n",
        "metrics"
      ],
      "metadata": {
        "trusted": true,
        "execution": {
          "iopub.status.busy": "2025-01-09T06:44:46.674288Z",
          "iopub.execute_input": "2025-01-09T06:44:46.674515Z",
          "iopub.status.idle": "2025-01-09T06:44:46.695594Z",
          "shell.execute_reply.started": "2025-01-09T06:44:46.674496Z",
          "shell.execute_reply": "2025-01-09T06:44:46.694885Z"
        },
        "id": "-VasPJZuqUZq"
      },
      "outputs": [],
      "execution_count": null
    },
    {
      "cell_type": "code",
      "source": [
        "# Plotting training and validation accuracy\n",
        "plt.plot(metrics['accuracy'], label='Train Accuracy')\n",
        "plt.plot(metrics['val_accuracy'], label='Validation Accuracy')\n",
        "plt.title('Model_CNN Accuracy')\n",
        "plt.xlabel('Epochs')\n",
        "plt.ylabel('Accuracy')\n",
        "plt.legend()\n",
        "plt.show()\n",
        "\n",
        "# Plotting training and validation loss\n",
        "plt.plot(metrics['loss'], label='Train Loss')\n",
        "plt.plot(metrics['val_loss'], label='Validation Loss')\n",
        "plt.title('Model_CNN Loss')\n",
        "plt.xlabel('Epochs')\n",
        "plt.ylabel('Loss')\n",
        "plt.legend()\n",
        "plt.show()"
      ],
      "metadata": {
        "trusted": true,
        "execution": {
          "iopub.status.busy": "2025-01-09T06:44:46.696331Z",
          "iopub.execute_input": "2025-01-09T06:44:46.696558Z",
          "iopub.status.idle": "2025-01-09T06:44:47.107617Z",
          "shell.execute_reply.started": "2025-01-09T06:44:46.696536Z",
          "shell.execute_reply": "2025-01-09T06:44:47.106727Z"
        },
        "id": "oh307vsxqUZq"
      },
      "outputs": [],
      "execution_count": null
    },
    {
      "cell_type": "code",
      "source": [
        "loss, accuracy = model.evaluate(X_test, y_cat_test, verbose=0)\n",
        "\n",
        "# Output the test loss and accuracy\n",
        "print(f\"Test Loss for CNN: {loss}\")\n",
        "print(f\"Test Accuracy for CNN: {accuracy}\")"
      ],
      "metadata": {
        "trusted": true,
        "execution": {
          "iopub.status.busy": "2025-01-09T06:44:47.108528Z",
          "iopub.execute_input": "2025-01-09T06:44:47.10874Z",
          "iopub.status.idle": "2025-01-09T06:44:51.821743Z",
          "shell.execute_reply.started": "2025-01-09T06:44:47.108721Z",
          "shell.execute_reply": "2025-01-09T06:44:51.820995Z"
        },
        "id": "qm4SFx5eqUZq"
      },
      "outputs": [],
      "execution_count": null
    },
    {
      "cell_type": "code",
      "source": [
        "# Load the pre-trained VGG16 model without the top classification layers\n",
        "base_model = VGG16(weights='imagenet', include_top=False, input_shape=(224, 224, 3))\n",
        "base_model.trainable = False  # Freeze the base model\n",
        "\n",
        "# Add custom layers on top\n",
        "x = Flatten()(base_model.output)  # Flatten the feature maps\n",
        "x = Dense(256, activation='relu')(x)  # Fully connected layer\n",
        "x = Dropout(0.5)(x)  # Dropout for regularization\n",
        "output = Dense(27, activation='softmax')(x)  # Output layer for 27 classes\n",
        "\n",
        "# Create the full model\n",
        "model_vgg16 = Model(inputs=base_model.input, outputs=output)\n",
        "\n",
        "# Show the model summary\n",
        "model_vgg16.summary()"
      ],
      "metadata": {
        "trusted": true,
        "execution": {
          "iopub.status.busy": "2025-01-09T06:44:51.826981Z",
          "iopub.execute_input": "2025-01-09T06:44:51.827194Z",
          "iopub.status.idle": "2025-01-09T06:44:52.52595Z",
          "shell.execute_reply.started": "2025-01-09T06:44:51.827174Z",
          "shell.execute_reply": "2025-01-09T06:44:52.525241Z"
        },
        "id": "oNdeFVLlqUZr"
      },
      "outputs": [],
      "execution_count": null
    },
    {
      "cell_type": "code",
      "source": [
        "model_vgg16.compile(\n",
        "    optimizer=Adam(learning_rate=0.0001),\n",
        "    loss='categorical_crossentropy',\n",
        "    metrics=['accuracy']\n",
        ")"
      ],
      "metadata": {
        "trusted": true,
        "execution": {
          "iopub.status.busy": "2025-01-09T06:44:52.52665Z",
          "iopub.execute_input": "2025-01-09T06:44:52.526947Z",
          "iopub.status.idle": "2025-01-09T06:44:52.533616Z",
          "shell.execute_reply.started": "2025-01-09T06:44:52.526917Z",
          "shell.execute_reply": "2025-01-09T06:44:52.533009Z"
        },
        "id": "15NzfTrjqUZr"
      },
      "outputs": [],
      "execution_count": null
    },
    {
      "cell_type": "code",
      "source": [
        "history_vgg16 = model_vgg16.fit(\n",
        "    X_train, y_cat_train,\n",
        "    epochs= 30,\n",
        "    batch_size= 16,\n",
        "    validation_data=(X_val, y_cat_val),\n",
        "    #callbacks=[early_stop],\n",
        "    verbose=1\n",
        ")"
      ],
      "metadata": {
        "trusted": true,
        "execution": {
          "iopub.status.busy": "2025-01-09T06:44:52.534354Z",
          "iopub.execute_input": "2025-01-09T06:44:52.534597Z",
          "iopub.status.idle": "2025-01-09T06:54:39.374397Z",
          "shell.execute_reply.started": "2025-01-09T06:44:52.534577Z",
          "shell.execute_reply": "2025-01-09T06:54:39.373624Z"
        },
        "id": "2i_4AHQwqUZr"
      },
      "outputs": [],
      "execution_count": null
    },
    {
      "cell_type": "code",
      "source": [
        "metrics_vgg16 = pd.DataFrame(model_vgg16.history.history)\n",
        "print(\"The model_vgg16 metrics are\")\n",
        "metrics_vgg16"
      ],
      "metadata": {
        "trusted": true,
        "execution": {
          "iopub.status.busy": "2025-01-09T06:54:39.375513Z",
          "iopub.execute_input": "2025-01-09T06:54:39.375754Z",
          "iopub.status.idle": "2025-01-09T06:54:39.389227Z",
          "shell.execute_reply.started": "2025-01-09T06:54:39.375733Z",
          "shell.execute_reply": "2025-01-09T06:54:39.388396Z"
        },
        "id": "gau7wqaWqUZr"
      },
      "outputs": [],
      "execution_count": null
    },
    {
      "cell_type": "code",
      "source": [
        "# Plotting training and validation accuracy\n",
        "plt.plot(metrics_vgg16['accuracy'], label='Train Accuracy')\n",
        "plt.plot(metrics_vgg16['val_accuracy'], label='Validation Accuracy')\n",
        "plt.title('Model_vgg16 Accuracy')\n",
        "plt.xlabel('Epochs')\n",
        "plt.ylabel('Accuracy')\n",
        "plt.legend()\n",
        "plt.show()\n",
        "\n",
        "# Plotting training and validation loss\n",
        "plt.plot(metrics_vgg16['loss'], label='Train Loss')\n",
        "plt.plot(metrics_vgg16['val_loss'], label='Validation Loss')\n",
        "plt.title('Model_vgg16 Loss')\n",
        "plt.xlabel('Epochs')\n",
        "plt.ylabel('Loss')\n",
        "plt.legend()\n",
        "plt.show()"
      ],
      "metadata": {
        "trusted": true,
        "execution": {
          "iopub.status.busy": "2025-01-09T06:54:39.39016Z",
          "iopub.execute_input": "2025-01-09T06:54:39.390449Z",
          "iopub.status.idle": "2025-01-09T06:54:39.757969Z",
          "shell.execute_reply.started": "2025-01-09T06:54:39.390419Z",
          "shell.execute_reply": "2025-01-09T06:54:39.757085Z"
        },
        "id": "N9esFcdeqUZs"
      },
      "outputs": [],
      "execution_count": null
    },
    {
      "cell_type": "code",
      "source": [
        "loss1, accuracy1= model_vgg16.evaluate(X_test, y_cat_test, verbose=0)\n",
        "print(f\"Test Loss for vgg16: {loss1}\")\n",
        "print(f\"Test Accuracy for vgg16: {accuracy1}\")"
      ],
      "metadata": {
        "trusted": true,
        "execution": {
          "iopub.status.busy": "2025-01-09T06:54:39.758904Z",
          "iopub.execute_input": "2025-01-09T06:54:39.759225Z",
          "iopub.status.idle": "2025-01-09T06:54:58.008216Z",
          "shell.execute_reply.started": "2025-01-09T06:54:39.759193Z",
          "shell.execute_reply": "2025-01-09T06:54:58.007125Z"
        },
        "id": "FvhkYUIqqUZs"
      },
      "outputs": [],
      "execution_count": null
    },
    {
      "cell_type": "code",
      "source": [
        "# Load the pre-trained VGG19 model without the top classification layers\n",
        "base_model1 = VGG19(weights='imagenet', include_top=False, input_shape=(224, 224, 3))\n",
        "base_model1.trainable = False\n",
        "\n",
        "# Add custom layers\n",
        "x = Flatten()(base_model1.output)\n",
        "x = Dense(256, activation='relu')(x)\n",
        "x = Dropout(0.5)(x)\n",
        "output = Dense(27, activation='softmax')(x)\n",
        "\n",
        "# Create the model\n",
        "model_vgg19 = Model(inputs=base_model1.input, outputs=output)\n",
        "\n",
        "# Show the model summary\n",
        "model_vgg19.summary()"
      ],
      "metadata": {
        "trusted": true,
        "execution": {
          "iopub.status.busy": "2025-01-09T06:54:58.009494Z",
          "iopub.execute_input": "2025-01-09T06:54:58.009848Z",
          "iopub.status.idle": "2025-01-09T06:54:58.810867Z",
          "shell.execute_reply.started": "2025-01-09T06:54:58.009815Z",
          "shell.execute_reply": "2025-01-09T06:54:58.810211Z"
        },
        "id": "flsLDUjMqUZs"
      },
      "outputs": [],
      "execution_count": null
    },
    {
      "cell_type": "code",
      "source": [
        "model_vgg19.compile(\n",
        "    optimizer=Adam(learning_rate=0.0001),\n",
        "    loss='categorical_crossentropy',\n",
        "    metrics=['accuracy']\n",
        ")"
      ],
      "metadata": {
        "trusted": true,
        "execution": {
          "iopub.status.busy": "2025-01-09T06:54:58.811625Z",
          "iopub.execute_input": "2025-01-09T06:54:58.811912Z",
          "iopub.status.idle": "2025-01-09T06:54:58.818686Z",
          "shell.execute_reply.started": "2025-01-09T06:54:58.81188Z",
          "shell.execute_reply": "2025-01-09T06:54:58.818058Z"
        },
        "id": "b09fKXydqUZs"
      },
      "outputs": [],
      "execution_count": null
    },
    {
      "cell_type": "code",
      "source": [
        "history_vgg19 = model_vgg19.fit(\n",
        "    X_train, y_cat_train,\n",
        "    epochs= 30,\n",
        "    batch_size= 16,\n",
        "    validation_data=(X_val, y_cat_val),\n",
        "    #callbacks=[early_stop],\n",
        "    verbose=1\n",
        ")"
      ],
      "metadata": {
        "trusted": true,
        "execution": {
          "iopub.status.busy": "2025-01-09T06:54:58.819316Z",
          "iopub.execute_input": "2025-01-09T06:54:58.81952Z",
          "iopub.status.idle": "2025-01-09T07:06:24.087767Z",
          "shell.execute_reply.started": "2025-01-09T06:54:58.819501Z",
          "shell.execute_reply": "2025-01-09T07:06:24.087066Z"
        },
        "id": "ix2LPZSxqUZs"
      },
      "outputs": [],
      "execution_count": null
    },
    {
      "cell_type": "code",
      "source": [
        "metrics_vgg19 = pd.DataFrame(model_vgg19.history.history)\n",
        "print(\"The model_vgg19 metrics are\")\n",
        "metrics_vgg19"
      ],
      "metadata": {
        "trusted": true,
        "execution": {
          "iopub.status.busy": "2025-01-09T07:06:24.088984Z",
          "iopub.execute_input": "2025-01-09T07:06:24.089207Z",
          "iopub.status.idle": "2025-01-09T07:06:24.102036Z",
          "shell.execute_reply.started": "2025-01-09T07:06:24.089188Z",
          "shell.execute_reply": "2025-01-09T07:06:24.101242Z"
        },
        "id": "P_kCN-0AqUZt"
      },
      "outputs": [],
      "execution_count": null
    },
    {
      "cell_type": "code",
      "source": [
        "# Plotting training and validation accuracy\n",
        "plt.plot(metrics_vgg19['accuracy'], label='Train Accuracy')\n",
        "plt.plot(metrics_vgg19['val_accuracy'], label='Validation Accuracy')\n",
        "plt.title('Model_vgg19 Accuracy')\n",
        "plt.xlabel('Epochs')\n",
        "plt.ylabel('Accuracy')\n",
        "plt.legend()\n",
        "plt.show()\n",
        "\n",
        "# Plotting training and validation loss\n",
        "plt.plot(metrics_vgg19['loss'], label='Train Loss')\n",
        "plt.plot(metrics_vgg19['val_loss'], label='Validation Loss')\n",
        "plt.title('Model_vgg19 Loss')\n",
        "plt.xlabel('Epochs')\n",
        "plt.ylabel('Loss')\n",
        "plt.legend()\n",
        "plt.show()"
      ],
      "metadata": {
        "trusted": true,
        "execution": {
          "iopub.status.busy": "2025-01-09T07:06:24.102938Z",
          "iopub.execute_input": "2025-01-09T07:06:24.103231Z",
          "iopub.status.idle": "2025-01-09T07:06:24.614573Z",
          "shell.execute_reply.started": "2025-01-09T07:06:24.103181Z",
          "shell.execute_reply": "2025-01-09T07:06:24.613724Z"
        },
        "id": "GXoEfd8HqUZt"
      },
      "outputs": [],
      "execution_count": null
    },
    {
      "cell_type": "code",
      "source": [
        "loss2, accuracy2= model_vgg19.evaluate(X_test, y_cat_test, verbose=0)\n",
        "print(f\"Test Loss for vgg19: {loss2}\")\n",
        "print(f\"Test Accuracy for vgg19: {accuracy2}\")"
      ],
      "metadata": {
        "trusted": true,
        "execution": {
          "iopub.status.busy": "2025-01-09T07:06:24.615356Z",
          "iopub.execute_input": "2025-01-09T07:06:24.615685Z",
          "iopub.status.idle": "2025-01-09T07:06:31.427344Z",
          "shell.execute_reply.started": "2025-01-09T07:06:24.615637Z",
          "shell.execute_reply": "2025-01-09T07:06:31.426561Z"
        },
        "id": "e9ZPuNrjqUZt"
      },
      "outputs": [],
      "execution_count": null
    },
    {
      "cell_type": "code",
      "source": [
        "# Load the pre-trained ResNet50 model without the top layers\n",
        "base_model2 = ResNet50(weights='imagenet', include_top=False, input_shape=(224, 224, 3))\n",
        "base_model2.trainable = False  # Freeze the base model layers\n",
        "\n",
        "# Add custom layers\n",
        "x = GlobalAveragePooling2D()(base_model2.output)  # Replace Flatten with GAP\n",
        "x = Dense(256, activation='relu')(x)             # Fully connected layer\n",
        "x = Dropout(0.5)(x)                              # Dropout for regularization\n",
        "output = Dense(27, activation='softmax')(x)      # Output layer for 27 classes\n",
        "\n",
        "# Create the full model\n",
        "model_resnet50 = Model(inputs=base_model2.input, outputs=output)\n",
        "\n",
        "# Show the model summary\n",
        "model_resnet50.summary()"
      ],
      "metadata": {
        "trusted": true,
        "execution": {
          "iopub.status.busy": "2025-01-09T07:06:31.428235Z",
          "iopub.execute_input": "2025-01-09T07:06:31.428487Z",
          "iopub.status.idle": "2025-01-09T07:06:33.253146Z",
          "shell.execute_reply.started": "2025-01-09T07:06:31.428466Z",
          "shell.execute_reply": "2025-01-09T07:06:33.252352Z"
        },
        "id": "01IbyQxHqUZt"
      },
      "outputs": [],
      "execution_count": null
    },
    {
      "cell_type": "code",
      "source": [
        "model_resnet50.compile(\n",
        "    optimizer= Adam(learning_rate= 0.0001),\n",
        "    loss='categorical_crossentropy',\n",
        "    metrics=['accuracy']\n",
        ")"
      ],
      "metadata": {
        "trusted": true,
        "execution": {
          "iopub.status.busy": "2025-01-09T07:06:33.253952Z",
          "iopub.execute_input": "2025-01-09T07:06:33.25416Z",
          "iopub.status.idle": "2025-01-09T07:06:33.262373Z",
          "shell.execute_reply.started": "2025-01-09T07:06:33.254142Z",
          "shell.execute_reply": "2025-01-09T07:06:33.261543Z"
        },
        "id": "OU_KZ2lcqUZu"
      },
      "outputs": [],
      "execution_count": null
    },
    {
      "cell_type": "code",
      "source": [
        "history_resnet50 = model_resnet50.fit(\n",
        "    X_train, y_cat_train,\n",
        "    epochs= 30,\n",
        "    batch_size= 16,\n",
        "    validation_data=(X_val, y_cat_val),\n",
        "    callbacks=[early_stop],\n",
        "    verbose=1\n",
        ")"
      ],
      "metadata": {
        "trusted": true,
        "execution": {
          "iopub.status.busy": "2025-01-09T07:06:33.263272Z",
          "iopub.execute_input": "2025-01-09T07:06:33.263509Z",
          "iopub.status.idle": "2025-01-09T07:14:21.952994Z",
          "shell.execute_reply.started": "2025-01-09T07:06:33.263483Z",
          "shell.execute_reply": "2025-01-09T07:14:21.952246Z"
        },
        "id": "S-tAkcAQqUZu"
      },
      "outputs": [],
      "execution_count": null
    },
    {
      "cell_type": "code",
      "source": [
        "metrics_resnet50 = pd.DataFrame(model_resnet50.history.history)\n",
        "print(\"The model_ResNet50 metrics are\")\n",
        "metrics_resnet50"
      ],
      "metadata": {
        "trusted": true,
        "execution": {
          "iopub.status.busy": "2025-01-09T07:14:21.954124Z",
          "iopub.execute_input": "2025-01-09T07:14:21.954363Z",
          "iopub.status.idle": "2025-01-09T07:14:21.967175Z",
          "shell.execute_reply.started": "2025-01-09T07:14:21.954333Z",
          "shell.execute_reply": "2025-01-09T07:14:21.9664Z"
        },
        "id": "iW1moX0wqUZz"
      },
      "outputs": [],
      "execution_count": null
    },
    {
      "cell_type": "code",
      "source": [
        "# Plotting training and validation accuracy\n",
        "plt.plot(metrics_resnet50['accuracy'], label='Train Accuracy')\n",
        "plt.plot(metrics_resnet50['val_accuracy'], label='Validation Accuracy')\n",
        "plt.title('Model_ResNet50 Accuracy')\n",
        "plt.xlabel('Epochs')\n",
        "plt.ylabel('Accuracy')\n",
        "plt.legend()\n",
        "plt.show()\n",
        "\n",
        "# Plotting training and validation loss\n",
        "plt.plot(metrics_resnet50['loss'], label='Train Loss')\n",
        "plt.plot(metrics_resnet50['val_loss'], label='Validation Loss')\n",
        "plt.title('Model_ResNet50 Loss')\n",
        "plt.xlabel('Epochs')\n",
        "plt.ylabel('Loss')\n",
        "plt.legend()\n",
        "plt.show()"
      ],
      "metadata": {
        "trusted": true,
        "execution": {
          "iopub.status.busy": "2025-01-09T07:14:21.967971Z",
          "iopub.execute_input": "2025-01-09T07:14:21.968188Z",
          "iopub.status.idle": "2025-01-09T07:14:22.473038Z",
          "shell.execute_reply.started": "2025-01-09T07:14:21.968166Z",
          "shell.execute_reply": "2025-01-09T07:14:22.472045Z"
        },
        "id": "ttPA6JiuqUZ0"
      },
      "outputs": [],
      "execution_count": null
    },
    {
      "cell_type": "code",
      "source": [
        "loss3, accuracy3= model_resnet50.evaluate(X_test, y_cat_test, verbose=0)\n",
        "print(f\"Test Loss for ResNet50: {loss3}\")\n",
        "print(f\"Test Accuracy for ResNet50: {accuracy3}\")"
      ],
      "metadata": {
        "trusted": true,
        "execution": {
          "iopub.status.busy": "2025-01-09T07:14:22.473833Z",
          "iopub.execute_input": "2025-01-09T07:14:22.474082Z",
          "iopub.status.idle": "2025-01-09T07:14:32.073902Z",
          "shell.execute_reply.started": "2025-01-09T07:14:22.474061Z",
          "shell.execute_reply": "2025-01-09T07:14:32.073121Z"
        },
        "id": "uRf1LoDNqUZ0"
      },
      "outputs": [],
      "execution_count": null
    },
    {
      "cell_type": "code",
      "source": [
        "# Load the pre-trained MobileNet model without the top layers\n",
        "base_model3 = MobileNet(weights='imagenet', include_top=False, input_shape=(224, 224, 3))\n",
        "base_model3.trainable = False  # Freeze the base model layers\n",
        "\n",
        "# Add custom layers\n",
        "x = GlobalAveragePooling2D()(base_model3.output)  # Replace Flatten with GAP\n",
        "x = Dense(128, activation='relu')(x)             # Fully connected layer with fewer neurons\n",
        "x = Dropout(0.3)(x)                              # Dropout for regularization\n",
        "output = Dense(27, activation='softmax')(x)      # Output layer for 27 classes\n",
        "\n",
        "# Create the full model\n",
        "model_mobilenet = Model(inputs=base_model3.input, outputs=output)\n",
        "\n",
        "# Show the model summary\n",
        "model_mobilenet.summary()"
      ],
      "metadata": {
        "trusted": true,
        "execution": {
          "iopub.status.busy": "2025-01-09T07:14:32.074643Z",
          "iopub.execute_input": "2025-01-09T07:14:32.074904Z",
          "iopub.status.idle": "2025-01-09T07:14:32.737118Z",
          "shell.execute_reply.started": "2025-01-09T07:14:32.074872Z",
          "shell.execute_reply": "2025-01-09T07:14:32.73635Z"
        },
        "id": "xvLCJxvFqUZ1"
      },
      "outputs": [],
      "execution_count": null
    },
    {
      "cell_type": "code",
      "source": [
        "model_mobilenet.compile(\n",
        "    optimizer= Adam(learning_rate= 0.0001),\n",
        "    loss='categorical_crossentropy',\n",
        "    metrics=['accuracy']\n",
        ")"
      ],
      "metadata": {
        "trusted": true,
        "execution": {
          "iopub.status.busy": "2025-01-09T07:14:32.737795Z",
          "iopub.execute_input": "2025-01-09T07:14:32.738036Z",
          "iopub.status.idle": "2025-01-09T07:14:32.745634Z",
          "shell.execute_reply.started": "2025-01-09T07:14:32.738016Z",
          "shell.execute_reply": "2025-01-09T07:14:32.74487Z"
        },
        "id": "8SvWyJg_qUZ1"
      },
      "outputs": [],
      "execution_count": null
    },
    {
      "cell_type": "code",
      "source": [
        "history_mobilenet = model_mobilenet.fit(\n",
        "    X_train, y_cat_train,\n",
        "    epochs= 30,\n",
        "    batch_size= 16,\n",
        "    validation_data=(X_val, y_cat_val),\n",
        "    #callbacks=[early_stop],\n",
        "    verbose=1\n",
        ")"
      ],
      "metadata": {
        "trusted": true,
        "execution": {
          "iopub.status.busy": "2025-01-09T07:14:32.746521Z",
          "iopub.execute_input": "2025-01-09T07:14:32.746822Z",
          "iopub.status.idle": "2025-01-09T07:18:11.704029Z",
          "shell.execute_reply.started": "2025-01-09T07:14:32.746771Z",
          "shell.execute_reply": "2025-01-09T07:18:11.703068Z"
        },
        "id": "D0qMSILFqUZ1"
      },
      "outputs": [],
      "execution_count": null
    },
    {
      "cell_type": "code",
      "source": [
        "metrics_mobilenet = pd.DataFrame(model_mobilenet.history.history)\n",
        "print(\"The model_MobileNet metrics are\")\n",
        "metrics_mobilenet"
      ],
      "metadata": {
        "trusted": true,
        "execution": {
          "iopub.status.busy": "2025-01-09T07:18:11.705162Z",
          "iopub.execute_input": "2025-01-09T07:18:11.705394Z",
          "iopub.status.idle": "2025-01-09T07:18:11.718876Z",
          "shell.execute_reply.started": "2025-01-09T07:18:11.705373Z",
          "shell.execute_reply": "2025-01-09T07:18:11.717994Z"
        },
        "id": "rbe8y_m7qUZ1"
      },
      "outputs": [],
      "execution_count": null
    },
    {
      "cell_type": "code",
      "source": [
        "# Plotting training and validation accuracy\n",
        "plt.plot(metrics_mobilenet['accuracy'], label='Train Accuracy')\n",
        "plt.plot(metrics_mobilenet['val_accuracy'], label='Validation Accuracy')\n",
        "plt.title('Model_MobileNet Accuracy')\n",
        "plt.xlabel('Epochs')\n",
        "plt.ylabel('Accuracy')\n",
        "plt.legend()\n",
        "plt.show()\n",
        "\n",
        "# Plotting training and validation loss\n",
        "plt.plot(metrics_mobilenet['loss'], label='Train Loss')\n",
        "plt.plot(metrics_mobilenet['val_loss'], label='Validation Loss')\n",
        "plt.title('Model_MobileNet Loss')\n",
        "plt.xlabel('Epochs')\n",
        "plt.ylabel('Loss')\n",
        "plt.legend()\n",
        "plt.show()"
      ],
      "metadata": {
        "trusted": true,
        "execution": {
          "iopub.status.busy": "2025-01-09T07:18:11.719711Z",
          "iopub.execute_input": "2025-01-09T07:18:11.720067Z",
          "iopub.status.idle": "2025-01-09T07:18:12.210994Z",
          "shell.execute_reply.started": "2025-01-09T07:18:11.72004Z",
          "shell.execute_reply": "2025-01-09T07:18:12.210154Z"
        },
        "id": "uHgesmhNqUZ2"
      },
      "outputs": [],
      "execution_count": null
    },
    {
      "cell_type": "code",
      "source": [
        "loss4, accuracy4= model_mobilenet.evaluate(X_test, y_cat_test, verbose=0)\n",
        "print(f\"Test Loss for MobileNet: {loss4}\")\n",
        "print(f\"Test Accuracy for MobileNet: {accuracy4}\")"
      ],
      "metadata": {
        "trusted": true,
        "execution": {
          "iopub.status.busy": "2025-01-09T07:18:12.211828Z",
          "iopub.execute_input": "2025-01-09T07:18:12.212126Z",
          "iopub.status.idle": "2025-01-09T07:18:19.053456Z",
          "shell.execute_reply.started": "2025-01-09T07:18:12.212095Z",
          "shell.execute_reply": "2025-01-09T07:18:19.052641Z"
        },
        "id": "dbl1XGUAqUZ2"
      },
      "outputs": [],
      "execution_count": null
    },
    {
      "cell_type": "code",
      "source": [
        "predictions = np.argmax(model.predict(X_test), axis=-1)"
      ],
      "metadata": {
        "trusted": true,
        "execution": {
          "iopub.status.busy": "2025-01-09T07:18:19.054181Z",
          "iopub.execute_input": "2025-01-09T07:18:19.054389Z",
          "iopub.status.idle": "2025-01-09T07:18:22.635146Z",
          "shell.execute_reply.started": "2025-01-09T07:18:19.054371Z",
          "shell.execute_reply": "2025-01-09T07:18:22.634425Z"
        },
        "id": "9LV0nIANqUZ2"
      },
      "outputs": [],
      "execution_count": null
    },
    {
      "cell_type": "code",
      "source": [
        "predictions1 = np.argmax(model_vgg16.predict(X_test), axis=-1)"
      ],
      "metadata": {
        "trusted": true,
        "execution": {
          "iopub.status.busy": "2025-01-09T07:18:22.635944Z",
          "iopub.execute_input": "2025-01-09T07:18:22.636156Z",
          "iopub.status.idle": "2025-01-09T07:18:28.566351Z",
          "shell.execute_reply.started": "2025-01-09T07:18:22.636137Z",
          "shell.execute_reply": "2025-01-09T07:18:28.56541Z"
        },
        "id": "L06c14TLqUZ3"
      },
      "outputs": [],
      "execution_count": null
    },
    {
      "cell_type": "code",
      "source": [
        "predictions2 = np.argmax(model_vgg19.predict(X_test), axis=-1)"
      ],
      "metadata": {
        "trusted": true,
        "execution": {
          "iopub.status.busy": "2025-01-09T07:18:28.567315Z",
          "iopub.execute_input": "2025-01-09T07:18:28.567576Z",
          "iopub.status.idle": "2025-01-09T07:18:35.1107Z",
          "shell.execute_reply.started": "2025-01-09T07:18:28.567553Z",
          "shell.execute_reply": "2025-01-09T07:18:35.109784Z"
        },
        "id": "FnBwrHF_qUZ3"
      },
      "outputs": [],
      "execution_count": null
    },
    {
      "cell_type": "code",
      "source": [
        "predictions3 = np.argmax(model_resnet50.predict(X_test), axis=-1)"
      ],
      "metadata": {
        "trusted": true,
        "execution": {
          "iopub.status.busy": "2025-01-09T07:18:35.11168Z",
          "iopub.execute_input": "2025-01-09T07:18:35.112022Z",
          "iopub.status.idle": "2025-01-09T07:18:44.932666Z",
          "shell.execute_reply.started": "2025-01-09T07:18:35.11199Z",
          "shell.execute_reply": "2025-01-09T07:18:44.93193Z"
        },
        "id": "C3N3V33jqUZ3"
      },
      "outputs": [],
      "execution_count": null
    },
    {
      "cell_type": "code",
      "source": [
        "predictions4 = np.argmax(model_mobilenet.predict(X_test), axis=-1)"
      ],
      "metadata": {
        "trusted": true,
        "execution": {
          "iopub.status.busy": "2025-01-09T07:18:44.933635Z",
          "iopub.execute_input": "2025-01-09T07:18:44.933985Z",
          "iopub.status.idle": "2025-01-09T07:18:50.71026Z",
          "shell.execute_reply.started": "2025-01-09T07:18:44.933953Z",
          "shell.execute_reply": "2025-01-09T07:18:50.70951Z"
        },
        "id": "q_7ytsUWqUZ3"
      },
      "outputs": [],
      "execution_count": null
    },
    {
      "cell_type": "code",
      "source": [
        "# Visualize a few sample predictions\n",
        "for i in range(5):  # Display first 5 predictions\n",
        "    plt.imshow(X_test[i])\n",
        "    plt.title(f\"Predicted: {predictions[i]}, Actual: {y_test[i]}\")\n",
        "    plt.show()"
      ],
      "metadata": {
        "trusted": true,
        "execution": {
          "iopub.status.busy": "2025-01-09T07:18:50.711212Z",
          "iopub.execute_input": "2025-01-09T07:18:50.711505Z",
          "iopub.status.idle": "2025-01-09T07:18:52.179348Z",
          "shell.execute_reply.started": "2025-01-09T07:18:50.71148Z",
          "shell.execute_reply": "2025-01-09T07:18:52.178459Z"
        },
        "id": "AdJWlPWAqUZ3"
      },
      "outputs": [],
      "execution_count": null
    },
    {
      "cell_type": "code",
      "source": [
        "# Generate classification report\n",
        "print(\"Classification Report for CNN:\")\n",
        "print(classification_report(y_test, predictions))\n",
        "\n",
        "# Generate confusion matrix\n",
        "print(\"Confusion Matrix for CNN:\")\n",
        "print(confusion_matrix(y_test, predictions))"
      ],
      "metadata": {
        "trusted": true,
        "execution": {
          "iopub.status.busy": "2025-01-09T07:21:43.208346Z",
          "iopub.execute_input": "2025-01-09T07:21:43.208637Z",
          "iopub.status.idle": "2025-01-09T07:21:43.225845Z",
          "shell.execute_reply.started": "2025-01-09T07:21:43.208614Z",
          "shell.execute_reply": "2025-01-09T07:21:43.225008Z"
        },
        "id": "WTkOgzGmqUZ3"
      },
      "outputs": [],
      "execution_count": null
    },
    {
      "cell_type": "code",
      "source": [
        "# Generate confusion matrix\n",
        "cm = confusion_matrix(y_test, predictions)\n",
        "\n",
        "# Create the heatmap plot\n",
        "plt.figure(figsize=(12, 12))  # Set figure size\n",
        "sns.heatmap(cm, annot=True, fmt=\"d\", cmap=\"Blues\", xticklabels=range(29), yticklabels=range(29))\n",
        "\n",
        "# Add labels and title\n",
        "plt.xlabel('Predicted Labels')\n",
        "plt.ylabel('True Labels')\n",
        "plt.title('Confusion Matrix Heatmap for CNN')\n",
        "\n",
        "# Display the plot\n",
        "plt.show()"
      ],
      "metadata": {
        "trusted": true,
        "execution": {
          "iopub.status.busy": "2025-01-09T07:21:46.66864Z",
          "iopub.execute_input": "2025-01-09T07:21:46.669029Z",
          "iopub.status.idle": "2025-01-09T07:21:48.054656Z",
          "shell.execute_reply.started": "2025-01-09T07:21:46.668986Z",
          "shell.execute_reply": "2025-01-09T07:21:48.053846Z"
        },
        "id": "4v45lLO5qUZ4"
      },
      "outputs": [],
      "execution_count": null
    },
    {
      "cell_type": "code",
      "source": [
        "# Generate classification report\n",
        "print(\"Classification Report for VGG16:\")\n",
        "print(classification_report(y_test, predictions1))\n",
        "\n",
        "# Generate confusion matrix\n",
        "print(\"Confusion Matrix for VGG16:\")\n",
        "print(confusion_matrix(y_test, predictions1))"
      ],
      "metadata": {
        "trusted": true,
        "execution": {
          "iopub.status.busy": "2025-01-09T07:21:48.055949Z",
          "iopub.execute_input": "2025-01-09T07:21:48.056273Z",
          "iopub.status.idle": "2025-01-09T07:21:48.072645Z",
          "shell.execute_reply.started": "2025-01-09T07:21:48.056242Z",
          "shell.execute_reply": "2025-01-09T07:21:48.071902Z"
        },
        "id": "FlPDMUX8qUZ4"
      },
      "outputs": [],
      "execution_count": null
    },
    {
      "cell_type": "code",
      "source": [
        "# Generate confusion matrix\n",
        "cm1 = confusion_matrix(y_test, predictions1)\n",
        "\n",
        "# Create the heatmap plot\n",
        "plt.figure(figsize=(12, 12))  # Set figure size\n",
        "sns.heatmap(cm1, annot=True, fmt=\"d\", cmap=\"Blues\", xticklabels=range(29), yticklabels=range(29))\n",
        "\n",
        "# Add labels and title\n",
        "plt.xlabel('Predicted Labels')\n",
        "plt.ylabel('True Labels')\n",
        "plt.title('Confusion Matrix Heatmap for VGG16')\n",
        "\n",
        "# Display the plot\n",
        "plt.show()"
      ],
      "metadata": {
        "trusted": true,
        "execution": {
          "iopub.status.busy": "2025-01-09T07:21:48.074018Z",
          "iopub.execute_input": "2025-01-09T07:21:48.074243Z",
          "iopub.status.idle": "2025-01-09T07:21:49.794253Z",
          "shell.execute_reply.started": "2025-01-09T07:21:48.074223Z",
          "shell.execute_reply": "2025-01-09T07:21:49.793419Z"
        },
        "id": "Lk-uYpOnqUZ4"
      },
      "outputs": [],
      "execution_count": null
    },
    {
      "cell_type": "code",
      "source": [
        "# Generate classification report\n",
        "print(\"Classification Report for VGG19:\")\n",
        "print(classification_report(y_test, predictions2))\n",
        "\n",
        "# Generate confusion matrix\n",
        "print(\"Confusion Matrix for VGG19:\")\n",
        "print(confusion_matrix(y_test, predictions2))"
      ],
      "metadata": {
        "trusted": true,
        "execution": {
          "iopub.status.busy": "2025-01-09T07:21:49.795262Z",
          "iopub.execute_input": "2025-01-09T07:21:49.79555Z",
          "iopub.status.idle": "2025-01-09T07:21:49.810547Z",
          "shell.execute_reply.started": "2025-01-09T07:21:49.795525Z",
          "shell.execute_reply": "2025-01-09T07:21:49.809902Z"
        },
        "id": "cPoWKHtfqUZ4"
      },
      "outputs": [],
      "execution_count": null
    },
    {
      "cell_type": "code",
      "source": [
        "# Generate confusion matrix\n",
        "cm2 = confusion_matrix(y_test, predictions2)\n",
        "\n",
        "# Create the heatmap plot\n",
        "plt.figure(figsize=(12, 12))  # Set figure size\n",
        "sns.heatmap(cm2, annot=True, fmt=\"d\", cmap=\"Blues\", xticklabels=range(29), yticklabels=range(29))\n",
        "\n",
        "# Add labels and title\n",
        "plt.xlabel('Predicted Labels')\n",
        "plt.ylabel('True Labels')\n",
        "plt.title('Confusion Matrix Heatmap for VGG19')\n",
        "\n",
        "# Display the plot\n",
        "plt.show()"
      ],
      "metadata": {
        "trusted": true,
        "execution": {
          "iopub.status.busy": "2025-01-09T07:21:49.811554Z",
          "iopub.execute_input": "2025-01-09T07:21:49.811789Z",
          "iopub.status.idle": "2025-01-09T07:21:51.277669Z",
          "shell.execute_reply.started": "2025-01-09T07:21:49.811769Z",
          "shell.execute_reply": "2025-01-09T07:21:51.276705Z"
        },
        "id": "IvkI51bRqUZ5"
      },
      "outputs": [],
      "execution_count": null
    },
    {
      "cell_type": "code",
      "source": [
        "# Generate classification report\n",
        "print(\"Classification Report for ResNet50:\")\n",
        "print(classification_report(y_test, predictions3))\n",
        "\n",
        "# Generate confusion matrix\n",
        "print(\"Confusion Matrix for ResNet50:\")\n",
        "print(confusion_matrix(y_test, predictions3))"
      ],
      "metadata": {
        "trusted": true,
        "execution": {
          "iopub.status.busy": "2025-01-09T07:21:54.718608Z",
          "iopub.execute_input": "2025-01-09T07:21:54.718923Z",
          "iopub.status.idle": "2025-01-09T07:21:54.737149Z",
          "shell.execute_reply.started": "2025-01-09T07:21:54.718896Z",
          "shell.execute_reply": "2025-01-09T07:21:54.736195Z"
        },
        "id": "nN01UX6qqUZ5"
      },
      "outputs": [],
      "execution_count": null
    },
    {
      "cell_type": "code",
      "source": [
        "# Generate confusion matrix\n",
        "cm3 = confusion_matrix(y_test, predictions3)\n",
        "\n",
        "# Create the heatmap plot\n",
        "plt.figure(figsize=(12, 12))  # Set figure size\n",
        "sns.heatmap(cm3, annot=True, fmt=\"d\", cmap=\"Blues\", xticklabels=range(29), yticklabels=range(29))\n",
        "\n",
        "# Add labels and title\n",
        "plt.xlabel('Predicted Labels')\n",
        "plt.ylabel('True Labels')\n",
        "plt.title('Confusion Matrix Heatmap for ResNet50')\n",
        "\n",
        "# Display the plot\n",
        "plt.show()"
      ],
      "metadata": {
        "trusted": true,
        "execution": {
          "iopub.status.busy": "2025-01-09T07:21:55.136766Z",
          "iopub.execute_input": "2025-01-09T07:21:55.137113Z",
          "iopub.status.idle": "2025-01-09T07:21:56.480733Z",
          "shell.execute_reply.started": "2025-01-09T07:21:55.137084Z",
          "shell.execute_reply": "2025-01-09T07:21:56.479488Z"
        },
        "id": "s_ERH-XeqUZ5"
      },
      "outputs": [],
      "execution_count": null
    },
    {
      "cell_type": "code",
      "source": [
        "# Generate classification report\n",
        "print(\"Classification Report for MobileNet:\")\n",
        "print(classification_report(y_test, predictions4))\n",
        "\n",
        "# Generate confusion matrix\n",
        "print(\"Confusion Matrix for MobileNet:\")\n",
        "print(confusion_matrix(y_test, predictions4))"
      ],
      "metadata": {
        "trusted": true,
        "execution": {
          "iopub.status.busy": "2025-01-09T07:22:00.716542Z",
          "iopub.execute_input": "2025-01-09T07:22:00.716913Z",
          "iopub.status.idle": "2025-01-09T07:22:00.733492Z",
          "shell.execute_reply.started": "2025-01-09T07:22:00.716879Z",
          "shell.execute_reply": "2025-01-09T07:22:00.732628Z"
        },
        "id": "039IT2HyqUZ6"
      },
      "outputs": [],
      "execution_count": null
    },
    {
      "cell_type": "code",
      "source": [
        "# Generate confusion matrix\n",
        "cm4 = confusion_matrix(y_test, predictions4)\n",
        "\n",
        "# Create the heatmap plot\n",
        "plt.figure(figsize=(12, 12))  # Set figure size\n",
        "sns.heatmap(cm4, annot=True, fmt=\"d\", cmap=\"Blues\", xticklabels=range(29), yticklabels=range(29))\n",
        "\n",
        "# Add labels and title\n",
        "plt.xlabel('Predicted Labels')\n",
        "plt.ylabel('True Labels')\n",
        "plt.title('Confusion Matrix Heatmap for MobileNet')\n",
        "\n",
        "# Display the plot\n",
        "plt.show()"
      ],
      "metadata": {
        "trusted": true,
        "execution": {
          "iopub.status.busy": "2025-01-09T07:22:00.988334Z",
          "iopub.execute_input": "2025-01-09T07:22:00.988631Z",
          "iopub.status.idle": "2025-01-09T07:22:02.396084Z",
          "shell.execute_reply.started": "2025-01-09T07:22:00.988607Z",
          "shell.execute_reply": "2025-01-09T07:22:02.39526Z"
        },
        "id": "JmBt2s7aqUZ6"
      },
      "outputs": [],
      "execution_count": null
    },
    {
      "cell_type": "code",
      "source": [
        "model.save('Model_CNN.h5')\n",
        "model_vgg16.save('Model_VGG16.h5')\n",
        "model_vgg19.save('Model_VGG19.h5')\n",
        "model_mobilenet.save('Model_MobileNet.h5')"
      ],
      "metadata": {
        "trusted": true,
        "execution": {
          "iopub.status.busy": "2025-01-09T07:22:05.708594Z",
          "iopub.execute_input": "2025-01-09T07:22:05.708918Z",
          "iopub.status.idle": "2025-01-09T07:22:06.520975Z",
          "shell.execute_reply.started": "2025-01-09T07:22:05.708892Z",
          "shell.execute_reply": "2025-01-09T07:22:06.520207Z"
        },
        "id": "aPg08-kWqUZ6"
      },
      "outputs": [],
      "execution_count": null
    },
    {
      "cell_type": "code",
      "source": [],
      "metadata": {
        "trusted": true,
        "id": "-zJsHWA1qUZ7"
      },
      "outputs": [],
      "execution_count": null
    },
    {
      "cell_type": "code",
      "source": [],
      "metadata": {
        "trusted": true,
        "id": "cljhyJr3qUZ7"
      },
      "outputs": [],
      "execution_count": null
    }
  ]
}